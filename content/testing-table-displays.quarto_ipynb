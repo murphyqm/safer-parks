{
  "cells": [
    {
      "cell_type": "markdown",
      "metadata": {},
      "source": [
        "---\n",
        "title: \"Testing table displays\"\n",
        "\n",
        "---\n",
        "\n",
        "\n",
        "\n",
        "\n",
        "Testing different display options for organising datasets. This uses Python, so you need to ensure you have a Python environment available when building.\n"
      ],
      "id": "24040389"
    },
    {
      "cell_type": "code",
      "metadata": {},
      "source": [
        "import pandas as pd\n",
        "import dt\n",
        "\n",
        "# Load your GeoJSON data\n",
        "import geopandas as gpd\n",
        "schools = gpd.read_file(\"../data/examples/schools.geojson\")\n",
        "clinics = gpd.read_file(\"../data/examples/clinics.geojson\")\n",
        "parkruns = gpd.read_file(\"../data/parkrun_subset.geojson\")\n",
        "\n",
        "# You can drop geometry for table display\n",
        "schools_df = schools.drop(columns=\"geometry\")\n",
        "clinics_df = clinics.drop(columns=\"geometry\")\n",
        "parkruns_df = parkruns.drop(columns=\"geometry\")"
      ],
      "id": "4849c29d",
      "execution_count": null,
      "outputs": []
    },
    {
      "cell_type": "code",
      "metadata": {},
      "source": [
        "# Render the interactive table\n",
        "dt.DataTable(schools_df)"
      ],
      "id": "c5337762",
      "execution_count": null,
      "outputs": []
    }
  ],
  "metadata": {
    "kernelspec": {
      "name": "python3",
      "language": "python",
      "display_name": "Python 3 (ipykernel)",
      "path": "/home/maeve/miniforge3/envs/parks-project/share/jupyter/kernels/python3"
    }
  },
  "nbformat": 4,
  "nbformat_minor": 5
}